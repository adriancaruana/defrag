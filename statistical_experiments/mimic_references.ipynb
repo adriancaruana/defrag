{
 "cells": [
  {
   "cell_type": "code",
   "execution_count": 16,
   "metadata": {},
   "outputs": [
    {
     "name": "stderr",
     "output_type": "stream",
     "text": [
      "INFO:filter_mimic:Using soft filtering.\n"
     ]
    },
    {
     "name": "stdout",
     "output_type": "stream",
     "text": [
      "Before filtering the dataset based on diagnosis codes, there are 5308016 events.\n",
      "For disease: 8 there are 221415 patients.\n",
      "After filtering the dataset based on diagnosis codes, there are 2151940 events.\n"
     ]
    },
    {
     "name": "stderr",
     "output_type": "stream",
     "text": [
      "INFO:filter_mimic:Experiment contains 224039 events and 42031 patients.\n",
      "INFO:filter_mimic:(after filtering) Experiment contains 224039 events and 42031 patients.\n",
      "INFO:filter_mimic:Using soft filtering.\n"
     ]
    },
    {
     "name": "stdout",
     "output_type": "stream",
     "text": [
      "Before filtering the dataset based on diagnosis codes, there are 5308016 events.\n",
      "For disease: 7.1 there are 230653 patients.\n",
      "After filtering the dataset based on diagnosis codes, there are 3179698 events.\n"
     ]
    },
    {
     "name": "stderr",
     "output_type": "stream",
     "text": [
      "INFO:filter_mimic:Experiment contains 292057 events and 54010 patients.\n",
      "INFO:filter_mimic:(after filtering) Experiment contains 292057 events and 54010 patients.\n",
      "INFO:filter_mimic:Using soft filtering.\n"
     ]
    },
    {
     "name": "stdout",
     "output_type": "stream",
     "text": [
      "Before filtering the dataset based on diagnosis codes, there are 5308016 events.\n",
      "For disease: 9.4 there are 128571 patients.\n",
      "After filtering the dataset based on diagnosis codes, there are 1618326 events.\n"
     ]
    },
    {
     "name": "stderr",
     "output_type": "stream",
     "text": [
      "INFO:filter_mimic:Experiment contains 144682 events and 30237 patients.\n",
      "INFO:filter_mimic:(after filtering) Experiment contains 144682 events and 30237 patients.\n",
      "INFO:filter_mimic:Using soft filtering.\n"
     ]
    },
    {
     "name": "stdout",
     "output_type": "stream",
     "text": [
      "Before filtering the dataset based on diagnosis codes, there are 5308016 events.\n",
      "For disease: 8.3 there are 45582 patients.\n",
      "After filtering the dataset based on diagnosis codes, there are 592332 events.\n"
     ]
    },
    {
     "name": "stderr",
     "output_type": "stream",
     "text": [
      "INFO:filter_mimic:Experiment contains 50388 events and 11594 patients.\n",
      "INFO:filter_mimic:(after filtering) Experiment contains 50388 events and 11594 patients.\n",
      "INFO:filter_mimic:Using soft filtering.\n"
     ]
    },
    {
     "name": "stdout",
     "output_type": "stream",
     "text": [
      "Before filtering the dataset based on diagnosis codes, there are 5308016 events.\n",
      "For disease: 16.2 there are 37604 patients.\n"
     ]
    },
    {
     "name": "stderr",
     "output_type": "stream",
     "text": [
      "INFO:filter_mimic:Experiment contains 38805 events and 12001 patients.\n"
     ]
    },
    {
     "name": "stdout",
     "output_type": "stream",
     "text": [
      "After filtering the dataset based on diagnosis codes, there are 296111 events.\n"
     ]
    },
    {
     "name": "stderr",
     "output_type": "stream",
     "text": [
      "INFO:filter_mimic:(after filtering) Experiment contains 38805 events and 12001 patients.\n",
      "INFO:filter_mimic:Using soft filtering.\n"
     ]
    },
    {
     "name": "stdout",
     "output_type": "stream",
     "text": [
      "Before filtering the dataset based on diagnosis codes, there are 5308016 events.\n",
      "For disease: 6.7 there are 44901 patients.\n",
      "After filtering the dataset based on diagnosis codes, there are 613708 events.\n"
     ]
    },
    {
     "name": "stderr",
     "output_type": "stream",
     "text": [
      "INFO:filter_mimic:Experiment contains 49791 events and 10659 patients.\n",
      "INFO:filter_mimic:(after filtering) Experiment contains 49791 events and 10659 patients.\n",
      "INFO:filter_mimic:Using soft filtering.\n"
     ]
    },
    {
     "name": "stdout",
     "output_type": "stream",
     "text": [
      "Before filtering the dataset based on diagnosis codes, there are 5308016 events.\n",
      "For disease: 9.9 there are 12994 patients.\n"
     ]
    },
    {
     "name": "stderr",
     "output_type": "stream",
     "text": [
      "INFO:filter_mimic:Experiment contains 16518 events and 3510 patients.\n",
      "INFO:filter_mimic:(after filtering) Experiment contains 16518 events and 3510 patients.\n"
     ]
    },
    {
     "name": "stdout",
     "output_type": "stream",
     "text": [
      "After filtering the dataset based on diagnosis codes, there are 137013 events.\n"
     ]
    },
    {
     "name": "stderr",
     "output_type": "stream",
     "text": [
      "INFO:filter_mimic:Using soft filtering.\n"
     ]
    },
    {
     "name": "stdout",
     "output_type": "stream",
     "text": [
      "Before filtering the dataset based on diagnosis codes, there are 5308016 events.\n",
      "For disease: 9.1 there are 8960 patients.\n",
      "After filtering the dataset based on diagnosis codes, there are 140761 events.\n"
     ]
    },
    {
     "name": "stderr",
     "output_type": "stream",
     "text": [
      "INFO:filter_mimic:Experiment contains 15261 events and 3214 patients.\n",
      "INFO:filter_mimic:(after filtering) Experiment contains 15261 events and 3214 patients.\n",
      "INFO:filter_mimic:Using soft filtering.\n"
     ]
    },
    {
     "name": "stdout",
     "output_type": "stream",
     "text": [
      "Before filtering the dataset based on diagnosis codes, there are 5308016 events.\n",
      "For disease: 2 there are 203977 patients.\n",
      "After filtering the dataset based on diagnosis codes, there are 1721790 events.\n"
     ]
    },
    {
     "name": "stderr",
     "output_type": "stream",
     "text": [
      "INFO:filter_mimic:Experiment contains 177313 events and 34369 patients.\n",
      "INFO:filter_mimic:(after filtering) Experiment contains 177313 events and 34369 patients.\n",
      "INFO:filter_mimic:Using soft filtering.\n"
     ]
    },
    {
     "name": "stdout",
     "output_type": "stream",
     "text": [
      "Before filtering the dataset based on diagnosis codes, there are 5308016 events.\n",
      "For disease: 2.4 there are 14345 patients.\n",
      "After filtering the dataset based on diagnosis codes, there are 210767 events.\n"
     ]
    },
    {
     "name": "stderr",
     "output_type": "stream",
     "text": [
      "INFO:filter_mimic:Experiment contains 19206 events and 4508 patients.\n",
      "INFO:filter_mimic:(after filtering) Experiment contains 19206 events and 4508 patients.\n",
      "INFO:filter_mimic:Using soft filtering.\n"
     ]
    },
    {
     "name": "stdout",
     "output_type": "stream",
     "text": [
      "Before filtering the dataset based on diagnosis codes, there are 5308016 events.\n",
      "For disease: 2.3 there are 10278 patients.\n",
      "After filtering the dataset based on diagnosis codes, there are 157164 events.\n"
     ]
    },
    {
     "name": "stderr",
     "output_type": "stream",
     "text": [
      "INFO:filter_mimic:Experiment contains 15566 events and 3042 patients.\n",
      "INFO:filter_mimic:(after filtering) Experiment contains 15566 events and 3042 patients.\n",
      "INFO:filter_mimic:Using soft filtering.\n"
     ]
    },
    {
     "name": "stdout",
     "output_type": "stream",
     "text": [
      "Before filtering the dataset based on diagnosis codes, there are 5308016 events.\n",
      "For disease: 2.1 there are 9885 patients.\n",
      "After filtering the dataset based on diagnosis codes, there are 140708 events.\n"
     ]
    },
    {
     "name": "stderr",
     "output_type": "stream",
     "text": [
      "INFO:filter_mimic:Experiment contains 13454 events and 2520 patients.\n",
      "INFO:filter_mimic:(after filtering) Experiment contains 13454 events and 2520 patients.\n"
     ]
    },
    {
     "data": {
      "text/plain": [
       "12"
      ]
     },
     "execution_count": 16,
     "metadata": {},
     "output_type": "execute_result"
    }
   ],
   "source": [
    "%matplotlib inline\n",
    "\n",
    "from pathlib import Path\n",
    "import sys\n",
    "import shutil\n",
    "\n",
    "import numpy as np\n",
    "import pandas as pd\n",
    "from matplotlib import pyplot as plt\n",
    "import scipy.stats\n",
    "\n",
    "sys.path.append(\"../\")\n",
    "from catsyn_config_generator import CatsynConfigFeedstock\n",
    "from conductor import run_synthesis\n",
    "\n",
    "from filter_mimic import filter_mimic_features\n",
    "\n",
    "\n",
    "# mimic_full = filter_mimic_features(\n",
    "#     (\"*\",),\n",
    "#     1,\n",
    "#     \"patient_id\",\n",
    "#     None,\n",
    "#     \"full\",\n",
    "#     proc_only=True,\n",
    "#     cols=[\"hadm_idx\", \"p_icd9_code\", \"p_ccs_lv1\", \"p_ccs_lv2\", \"p_ccs_lv3\"],\n",
    "# )\n",
    "\n",
    "# mimic_cancer = filter_mimic_features(\n",
    "#     (\"2\",),\n",
    "#     1,\n",
    "#     None,\n",
    "#     None,\n",
    "#     \"soft\",\n",
    "#     proc_only=True,\n",
    "#     cols=[\"hadm_idx\", \"p_icd9_code\", \"p_ccs_lv1\", \"p_ccs_lv2\", \"p_ccs_lv3\"],\n",
    "# )\n",
    "\n",
    "# mimic_breastcancer = filter_mimic_features(\n",
    "#     (\"2.5\",),\n",
    "#     1,\n",
    "#     None,\n",
    "#     None,\n",
    "#     \"soft\",\n",
    "#     proc_only=True,\n",
    "#     cols=[\"hadm_idx\", \"p_icd9_code\", \"p_ccs_lv1\", \"p_ccs_lv2\", \"p_ccs_lv3\"],\n",
    "# )\n",
    "\n",
    "# mimic_respiratory = filter_mimic_features(\n",
    "#     (\"8\",),\n",
    "#     1,\n",
    "#     None,\n",
    "#     None,\n",
    "#     \"soft\",\n",
    "#     proc_only=True,\n",
    "#     cols=[\"hadm_idx\", \"p_icd9_code\", \"p_ccs_lv1\", \"p_ccs_lv2\", \"p_ccs_lv3\"],\n",
    "# )\n",
    "\n",
    "# d_list = ['7.2', '10.1', '7.1', '17.2', '3.6', '9.4', '5.14', '6.9', '4.1',\n",
    "# '3.8', '3.11', '5.8', '7.4', '17.1', '16.10', '1.1', '9.12', '1.5',\n",
    "# '3.2', '13.8', '5.2', '3.3', '15.1', '3.1', '9.8', '5.11', '15.7',\n",
    "# '13.3', '13.2', '7.5', '8.3', '6.7', '2.12', '1.3', '9.6', '7.3',\n",
    "# '16.2', '4.2', '8.2', '8.1', '8.8', '5.4', '5.12', '16.12', '8.6',\n",
    "# '11.3', '3.5', '10.2', '12.3', '9.7', '4.3', '6.4', '12.1', '6.5',\n",
    "# '2.10', '3.7', '6.2', '8.5', '11.6']\n",
    "\n",
    "d_list = ['8', '7.1', '9.4', '8.3', '16.2', '6.7', '9.9', '9.1', '2', '2.4', '2.3', '2.1']  # '16.9', '11.7'\n",
    "d_ccs = pd.read_parquet(\"../diag_ccs_mapping.parquet\")\n",
    "\n",
    "data = {}\n",
    "\n",
    "for d in d_list:\n",
    "    df = filter_mimic_features(\n",
    "        (d,),\n",
    "        1,\n",
    "        None,\n",
    "        None,\n",
    "        \"soft\",\n",
    "        proc_only=True,\n",
    "        cols=[\"hadm_idx\", \"p_icd9_code\", \"p_ccs_lv1\", \"p_ccs_lv2\", \"p_ccs_lv3\"],\n",
    "    )\n",
    "    if len(d) == 1:\n",
    "        name = d_ccs[d_ccs[\"CCS LVL 1\"] == d][\"CCS LVL 1 LABEL\"].iloc[0]\n",
    "    else:\n",
    "        name = d_ccs[d_ccs[\"CCS LVL 2\"] == d][\"CCS LVL 2 LABEL\"].iloc[0]\n",
    "    if \"[\" in name:\n",
    "        name = name.split(\"[\")[0][:-1]\n",
    "    data[name] = dict(\n",
    "        ref_name=name,\n",
    "        ref_num_bins=df[\"p_icd9_code\"].unique().__len__(),\n",
    "        ref_num_patients=df[\"patient_id\"].unique().__len__(),\n",
    "        ref_num_events=df.__len__(),\n",
    "        ref_avg_seq_len=df.__len__()/df[\"patient_id\"].unique().__len__(),\n",
    "        ref_f=(f := df.p_icd9_code.value_counts().values) / f.sum(),\n",
    "    )\n",
    "\n",
    "len(data)\n"
   ]
  },
  {
   "cell_type": "code",
   "execution_count": 15,
   "metadata": {},
   "outputs": [],
   "source": [
    "old_ref_f = np.load(\"dataset_info.npz\", allow_pickle=True)['data'].item()\n",
    "data[\"mimic_full\"] = old_ref_f[\"mimic_full\"]\n",
    "\n",
    "np.savez_compressed(\"new_dataset_info.npz\", data=data)"
   ]
  },
  {
   "cell_type": "code",
   "execution_count": 7,
   "metadata": {},
   "outputs": [
    {
     "name": "stdout",
     "output_type": "stream",
     "text": [
      "2.16 Benign neoplasms\n",
      "5.13 Suicide and intentional self-inflicted injury [662]\n",
      "13.4 Osteoporosis [206.]\n",
      "15.2 Short gestation; low birth weight; and fetal growth retardation [219.]\n",
      "11.7 Normal pregnancy and/or delivery [196.]\n",
      "2.5 Cancer of breast [24.]\n",
      "10.3 Diseases of female genital organs\n",
      "6.8 Ear conditions\n",
      "3.4 Other endocrine disorders [51.]\n",
      "2.2 Other gastrointestinal cancer\n",
      "2.4 Cancer of skin\n",
      "5.10 Schizophrenia and other psychotic disorders [659]\n",
      "9.10 Gastrointestinal hemorrhage [153.]\n",
      "2.8 Cancer of male genital organs\n",
      "9.9 Pancreatic disorders (not diabetes) [152.]\n",
      "9.5 Abdominal hernia [143.]\n",
      "8.9 Other upper respiratory disease [134.]\n",
      "13.9 Other bone disease and musculoskeletal deformities [212.]\n",
      "11.5 Complications during labor\n",
      "16.6 Open wounds\n",
      "16.8 Superficial injury; contusion [239.]\n",
      "2.3 Cancer of bronchus; lung [19.]\n",
      "15.5 Hemolytic jaundice and perinatal jaundice [222.]\n",
      "2.11 Cancer; other primary\n",
      "16.4 Intracranial injury [233.]\n",
      "1.2 Mycoses [4.]\n",
      "2.9 Cancer of urinary organs\n",
      "2.1 Colorectal cancer\n",
      "11.4 Indications for care in pregnancy; labor; and delivery\n",
      "12.4 Other skin disorders [200.]\n",
      "12.2 Other inflammatory condition of skin [198.]\n",
      "9.1 Intestinal infection [135.]\n",
      "14.5 Other congenital anomalies [217.]\n",
      "6.3 Paralysis [82.]\n",
      "14.1 Cardiac and circulatory congenital anomalies [213.]\n",
      "13.1 Infective arthritis and osteomyelitis (except that caused by TB or STD) [201.]\n",
      "8.4 Aspiration pneumonitis; food/vomitus [129.]\n",
      "2.14 Neoplasms of unspecified nature or uncertain behavior [44.]\n",
      "5.15 Miscellaneous mental health disorders [670]\n",
      "1.4 Other infections; including parasitic [8.]\n",
      "16.5 Crushing injury or internal injury [234.]\n",
      "13.6 Acquired deformities\n",
      "2.15 Maintenance chemotherapy; radiotherapy [45.]\n",
      "5.5 Developmental disorders [654]\n",
      "13.7 Systemic lupus erythematosus and connective tissue disorders [210.]\n",
      "5.3 Attention deficit conduct and disruptive behavior disorders [652]\n",
      "6.6 Coma; stupor; and brain damage [85.]\n",
      "13.5 Pathological fracture [207.]\n",
      "16.11 Poisoning\n",
      "5.9 Personality disorders [658]\n",
      "2.6 Cancer of uterus and cervix\n",
      "14.3 Genitourinary congenital anomalies [215.]\n",
      "9.11 Noninfectious gastroenteritis [154.]\n",
      "4.4 Other hematologic conditions [64.]\n",
      "6.1 Central nervous system infection\n",
      "9.2 Disorders of teeth and jaw [136.]\n",
      "2.7 Cancer of ovary and other female genital organs\n",
      "15.4 Respiratory distress syndrome [221.]\n",
      "9.3 Diseases of mouth; excluding dental [137.]\n",
      "16.7 Sprains and strains [232.]\n"
     ]
    }
   ],
   "source": [
    "d_list = ['2.16', '5.13', '13.4', '15.2', '11.7', '2.5', '10.3', '6.8', '3.4',\n",
    "       '2.2', '2.4', '5.10', '9.10', '2.8', '9.9', '9.5', '8.9', '13.9',\n",
    "       '11.5', '16.6', '16.8', '2.3', '15.5', '2.11', '16.4', '1.2', '2.9',\n",
    "       '2.1', '11.4', '12.4', '12.2', '9.1', '14.5', '6.3', '14.1', '13.1',\n",
    "       '8.4', '2.14', '5.15', '1.4', '16.5', '13.6', '2.15', '5.5', '13.7',\n",
    "       '5.3', '6.6', '13.5', '16.11', '5.9', '2.6', '14.3', '9.11', '4.4',\n",
    "       '6.1', '9.2', '2.7', '15.4', '9.3', '16.7']\n",
    "for d in d_list:\n"
   ]
  },
  {
   "cell_type": "code",
   "execution_count": 18,
   "metadata": {},
   "outputs": [
    {
     "data": {
      "text/plain": [
       "{'mimic_full': {'ref_name': 'mimic_full',\n",
       "  'ref_num_bins': 2839,\n",
       "  'ref_num_patients': 139300,\n",
       "  'ref_num_events': 597825,\n",
       "  'ref_avg_seq_len': 4.291636755204594,\n",
       "  'ref_f': array([3.27704596e-02, 2.97779451e-02, 1.84886882e-02, ...,\n",
       "         1.67273031e-06, 1.67273031e-06, 1.67273031e-06])},\n",
       " 'mimic_cancer': {'ref_name': 'mimic_cancer',\n",
       "  'ref_num_bins': 2358,\n",
       "  'ref_num_patients': 34369,\n",
       "  'ref_num_events': 177313,\n",
       "  'ref_avg_seq_len': 5.159096860542931,\n",
       "  'ref_f': array([3.98053160e-02, 3.47633845e-02, 2.04948312e-02, ...,\n",
       "         5.63974441e-06, 5.63974441e-06, 5.63974441e-06])},\n",
       " 'mimic_respiratory': {'ref_name': 'mimic_respiratory',\n",
       "  'ref_num_bins': 2393,\n",
       "  'ref_num_patients': 42031,\n",
       "  'ref_num_events': 224039,\n",
       "  'ref_avg_seq_len': 5.330327615331541,\n",
       "  'ref_f': array([5.08125817e-02, 3.37128803e-02, 3.29853284e-02, ...,\n",
       "         4.46350859e-06, 4.46350859e-06, 4.46350859e-06])},\n",
       " 'mimic_breastcancer': {'ref_name': 'mimic_breastcancer',\n",
       "  'ref_num_bins': 1262,\n",
       "  'ref_num_patients': 4670,\n",
       "  'ref_num_events': 21144,\n",
       "  'ref_avg_seq_len': 4.52762312633833,\n",
       "  'ref_f': array([4.26125615e-02, 2.91808551e-02, 1.89651911e-02, ...,\n",
       "         4.72947408e-05, 4.72947408e-05, 4.72947408e-05])}}"
      ]
     },
     "execution_count": 18,
     "metadata": {},
     "output_type": "execute_result"
    }
   ],
   "source": [
    "import numpy as np\n",
    "from tqdm import tqdm\n",
    "\n",
    "data = {}\n",
    "\n",
    "for name, df in zip([\"mimic_full\", \"mimic_cancer\", \"mimic_respiratory\", \"mimic_breastcancer\"], [mimic_full, mimic_cancer, mimic_respiratory, mimic_breastcancer]):\n",
    "    data[name] = dict(\n",
    "        ref_name=name,\n",
    "        ref_num_bins=df[\"p_icd9_code\"].unique().__len__(),\n",
    "        ref_num_patients=df[\"patient_id\"].unique().__len__(),\n",
    "        ref_num_events=df.__len__(),\n",
    "        ref_avg_seq_len=df.__len__()/df[\"patient_id\"].unique().__len__(),\n",
    "        ref_f=(f := df.p_icd9_code.value_counts().values) / f.sum(),\n",
    "        # avg_unique_events_per_patient=np.mean([df[df.patient_id.isin([pid])].p_icd9_code.unique().__len__() for pid in tqdm(df.patient_id.unique())]),\n",
    "    )\n",
    "\n",
    "np.savez_compressed(\"dataset_info.npz\", data=data)\n",
    "data"
   ]
  },
  {
   "cell_type": "code",
   "execution_count": 20,
   "metadata": {},
   "outputs": [
    {
     "data": {
      "text/plain": [
       "{'mimic_full': {'ref_name': 'mimic_full',\n",
       "  'ref_num_bins': 2839,\n",
       "  'ref_num_patients': 139300,\n",
       "  'ref_num_events': 597825,\n",
       "  'ref_avg_seq_len': 4.291636755204594,\n",
       "  'ref_f': array([3.27704596e-02, 2.97779451e-02, 1.84886882e-02, ...,\n",
       "         1.67273031e-06, 1.67273031e-06, 1.67273031e-06])},\n",
       " 'mimic_cancer': {'ref_name': 'mimic_cancer',\n",
       "  'ref_num_bins': 2358,\n",
       "  'ref_num_patients': 34369,\n",
       "  'ref_num_events': 177313,\n",
       "  'ref_avg_seq_len': 5.159096860542931,\n",
       "  'ref_f': array([3.98053160e-02, 3.47633845e-02, 2.04948312e-02, ...,\n",
       "         5.63974441e-06, 5.63974441e-06, 5.63974441e-06])},\n",
       " 'mimic_respiratory': {'ref_name': 'mimic_respiratory',\n",
       "  'ref_num_bins': 2393,\n",
       "  'ref_num_patients': 42031,\n",
       "  'ref_num_events': 224039,\n",
       "  'ref_avg_seq_len': 5.330327615331541,\n",
       "  'ref_f': array([5.08125817e-02, 3.37128803e-02, 3.29853284e-02, ...,\n",
       "         4.46350859e-06, 4.46350859e-06, 4.46350859e-06])},\n",
       " 'mimic_breastcancer': {'ref_name': 'mimic_breastcancer',\n",
       "  'ref_num_bins': 1262,\n",
       "  'ref_num_patients': 4670,\n",
       "  'ref_num_events': 21144,\n",
       "  'ref_avg_seq_len': 4.52762312633833,\n",
       "  'ref_f': array([4.26125615e-02, 2.91808551e-02, 1.89651911e-02, ...,\n",
       "         4.72947408e-05, 4.72947408e-05, 4.72947408e-05])}}"
      ]
     },
     "execution_count": 20,
     "metadata": {},
     "output_type": "execute_result"
    }
   ],
   "source": [
    "data = np.load(\"dataset_info.npz\", allow_pickle=True)[\"data\"].item(0)\n",
    "data"
   ]
  },
  {
   "cell_type": "code",
   "execution_count": null,
   "metadata": {},
   "outputs": [],
   "source": []
  }
 ],
 "metadata": {
  "kernelspec": {
   "display_name": "base",
   "language": "python",
   "name": "python3"
  },
  "language_info": {
   "codemirror_mode": {
    "name": "ipython",
    "version": 3
   },
   "file_extension": ".py",
   "mimetype": "text/x-python",
   "name": "python",
   "nbconvert_exporter": "python",
   "pygments_lexer": "ipython3",
   "version": "3.10.10"
  },
  "orig_nbformat": 4,
  "vscode": {
   "interpreter": {
    "hash": "d4d1e4263499bec80672ea0156c357c1ee493ec2b1c70f0acce89fc37c4a6abe"
   }
  }
 },
 "nbformat": 4,
 "nbformat_minor": 2
}
